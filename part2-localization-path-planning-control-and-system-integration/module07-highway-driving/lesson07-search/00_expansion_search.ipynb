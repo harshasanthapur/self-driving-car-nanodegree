{
 "cells": [
  {
   "cell_type": "code",
   "execution_count": 1,
   "metadata": {},
   "outputs": [],
   "source": [
    "# ----------\n",
    "# User Instructions:\n",
    "# \n",
    "# Define a function, search() that returns a list\n",
    "# in the form of [optimal path length, row, col]. For\n",
    "# the grid shown below, your function should output\n",
    "# [11, 4, 5].\n",
    "#\n",
    "# If there is no valid path from the start point\n",
    "# to the goal, your function should return the string\n",
    "# 'fail'\n",
    "# ----------\n",
    "\n",
    "# Grid format:\n",
    "#   0 = Navigable space\n",
    "#   1 = Occupied space\n",
    "\n",
    "\n",
    "grid = [[0, 0, 1, 0, 0, 0],\n",
    "        [0, 0, 1, 0, 0, 0],\n",
    "        [0, 0, 0, 0, 1, 0],\n",
    "        [0, 0, 1, 1, 1, 0],\n",
    "        [0, 0, 0, 0, 1, 0]]\n",
    "init = [0, 0]\n",
    "goal = [len(grid)-1, len(grid[0])-1]\n",
    "cost = 1\n",
    "\n",
    "delta = [[-1, 0], # go up\n",
    "         [ 0,-1], # go left\n",
    "         [ 1, 0], # go down\n",
    "         [ 0, 1]] # go right\n",
    "\n",
    "delta_name = ['^', '<', 'v', '>']\n",
    "\n",
    "def search(grid, init, goal, cost):\n",
    "    # ----------------------------------------\n",
    "    # insert code here\n",
    "    # ----------------------------------------\n",
    "    \n",
    "    # List to store our result (cost, x, y)\n",
    "    path = []\n",
    "    \n",
    "    # Get grid dimensions\n",
    "    n_rows = len(grid[0])\n",
    "    n_cols = len(grid)\n",
    "    \n",
    "    # Create grid saying which cells have been already visited\n",
    "    visited = [[0 for row in range(n_rows)] for col in range(n_cols)]\n",
    "    \n",
    "    # Set initial cell as visited\n",
    "    visited[init[0]][init[1]] = 1\n",
    "    \n",
    "    # Register initial node in the list of cells to expand\n",
    "    x = init[0]\n",
    "    y = init[1]\n",
    "    g = 0 # Current cost\n",
    "    \n",
    "    paths_to_expand = [[g, x, y]]\n",
    "    \n",
    "    # Flags\n",
    "    success = False # If the goal is reached\n",
    "    fail = False # If the goal is unreachable\n",
    "    \n",
    "    while success==False and fail==False:\n",
    "        # If we ran out of cells to expand\n",
    "        if len(paths_to_expand) == 0:\n",
    "            fail=True\n",
    "            path = [-1, -1, -1]\n",
    "        else:\n",
    "            # Expand the next cell with the smallest cost\n",
    "            paths_to_expand.sort() # Sort according 1st element (cost)\n",
    "            paths_to_expand.reverse() # Reverse to have the smallest cost at the end\n",
    "            next_cell = paths_to_expand.pop() # Pop last element\n",
    "\n",
    "            # Get information about next cell to expand\n",
    "            g = next_cell[0]\n",
    "            x = next_cell[1]\n",
    "            y = next_cell[2]\n",
    "            \n",
    "            # BASE CASE. If we are in the goal, save the next cell\n",
    "            if x==goal[0] and y==goal[1]:\n",
    "                success = True\n",
    "                path = next_cell\n",
    "            else:\n",
    "                # GENERAL CASE. Expand the cell\n",
    "                # For each possible movement\n",
    "                for movement in delta:\n",
    "                    # Get new cell\n",
    "                    new_x = x + movement[0]\n",
    "                    new_y = y + movement[1]\n",
    "                    \n",
    "                    # Check if we will be inside the grid\n",
    "                    if new_x>=0 and new_x<n_cols and new_y>=0 and new_y<n_rows:\n",
    "                        # Check if the cell is visited and there is no obstacle in the map\n",
    "                        if visited[new_x][new_y]==0 and grid[new_x][new_y]==0:\n",
    "                            # Update cost and append to expansion list\n",
    "                            new_g = g + cost\n",
    "                            paths_to_expand.append([new_g, new_x, new_y])\n",
    "                            \n",
    "                            # Mark cell as visited\n",
    "                            visited[new_x][new_y] = 1\n",
    "    return path"
   ]
  },
  {
   "cell_type": "code",
   "execution_count": 2,
   "metadata": {},
   "outputs": [
    {
     "name": "stdout",
     "output_type": "stream",
     "text": [
      "[2, 1, 1]\n",
      "[11, 4, 5]\n",
      "[17, 4, 5]\n",
      "[-1, -1, -1]\n",
      "search didn't return the expected output for grid: [[0, 1, 0, 1, 0, 0, 0], [0, 1, 0, 1, 0, 0, 0], [0, 1, 0, 1, 0, 0, 0], [0, 1, 0, 1, 0, 0, 0], [0, 0, 0, 1, 0, 0, 0]]\n"
     ]
    }
   ],
   "source": [
    "##### Do Not Modify ######\n",
    "\n",
    "import grader\n",
    "\n",
    "try:\n",
    "    response = grader.run_grader(search)\n",
    "    print(response)    \n",
    "    \n",
    "except Exception as err:\n",
    "    print(str(err))"
   ]
  },
  {
   "cell_type": "code",
   "execution_count": 3,
   "metadata": {},
   "outputs": [
    {
     "data": {
      "text/html": [
       "<iframe width=\"560\" height=\"315\" src=\"https://www.youtube.com/embed/cl8Kdkr4Gbg\" frameborder=\"0\" allow=\"accelerometer; autoplay; encrypted-media; gyroscope; picture-in-picture\" allowfullscreen></iframe>"
      ],
      "text/plain": [
       "<IPython.core.display.HTML object>"
      ]
     },
     "execution_count": 3,
     "metadata": {},
     "output_type": "execute_result"
    }
   ],
   "source": [
    "##### SOLUTION: Run this cell to watch the solution video ######\n",
    "from IPython.display import HTML\n",
    "HTML('<iframe width=\"560\" height=\"315\" src=\"https://www.youtube.com/embed/cl8Kdkr4Gbg\" frameborder=\"0\" allow=\"accelerometer; autoplay; encrypted-media; gyroscope; picture-in-picture\" allowfullscreen></iframe>')"
   ]
  }
 ],
 "metadata": {
  "kernelspec": {
   "display_name": "Python 3",
   "language": "python",
   "name": "python3"
  },
  "language_info": {
   "codemirror_mode": {
    "name": "ipython",
    "version": 3
   },
   "file_extension": ".py",
   "mimetype": "text/x-python",
   "name": "python",
   "nbconvert_exporter": "python",
   "pygments_lexer": "ipython3",
   "version": "3.6.10"
  }
 },
 "nbformat": 4,
 "nbformat_minor": 2
}
